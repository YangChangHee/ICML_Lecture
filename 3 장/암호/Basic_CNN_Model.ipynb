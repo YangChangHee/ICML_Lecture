{
 "cells": [
  {
   "cell_type": "code",
   "execution_count": 1,
   "id": "behavioral-cholesterol",
   "metadata": {},
   "outputs": [],
   "source": [
    "import torch\n",
    "import torchvision\n",
    "import torchvision.transforms as transforms\n",
    "import torch.nn as nn\n",
    "import torch.nn.functional as F\n",
    "import torch.optim as optim\n",
    "import numpy as np\n",
    "import time\n",
    "import matplotlib.pyplot as plt"
   ]
  },
  {
   "cell_type": "markdown",
   "id": "generous-nature",
   "metadata": {},
   "source": [
    "# Dataset Normalization"
   ]
  },
  {
   "cell_type": "code",
   "execution_count": 2,
   "id": "strong-punishment",
   "metadata": {},
   "outputs": [],
   "source": [
    "transform = transforms.Compose(\n",
    "    [transforms.ToTensor(),\n",
    "     transforms.Normalize((0.5, 0.5, 0.5), (0.5, 0.5, 0.5))])"
   ]
  },
  {
   "cell_type": "markdown",
   "id": "global-yellow",
   "metadata": {},
   "source": [
    "# Cifar-10 Dataset AutoLoad"
   ]
  },
  {
   "cell_type": "code",
   "execution_count": 3,
   "id": "charming-inside",
   "metadata": {},
   "outputs": [
    {
     "name": "stdout",
     "output_type": "stream",
     "text": [
      "Files already downloaded and verified\n",
      "Files already downloaded and verified\n"
     ]
    }
   ],
   "source": [
    "trainset = torchvision.datasets.CIFAR10(root='./data', train=True,\n",
    "                                        download=True, transform=transform)\n",
    "trainset, valset = torch.utils.data.random_split(trainset, [40000, 10000])\n",
    "testset = torchvision.datasets.CIFAR10(root='./data', train=False,\n",
    "                                       download=True, transform=transform)\n",
    "partition = {'train': trainset, 'val':valset, 'test':testset}"
   ]
  },
  {
   "cell_type": "code",
   "execution_count": 4,
   "id": "confirmed-profession",
   "metadata": {},
   "outputs": [],
   "source": [
    "classes=('plane', 'car', 'bird', 'cat',\n",
    "           'deer', 'dog', 'frog', 'horse', 'ship', 'truck')"
   ]
  },
  {
   "cell_type": "markdown",
   "id": "certified-episode",
   "metadata": {},
   "source": [
    "# Check dataset"
   ]
  },
  {
   "cell_type": "code",
   "execution_count": 5,
   "id": "essential-sierra",
   "metadata": {},
   "outputs": [
    {
     "name": "stdout",
     "output_type": "stream",
     "text": [
      "torch.Size([3, 32, 32]) 3\n"
     ]
    }
   ],
   "source": [
    "for i,j in testset:\n",
    "    print(i.shape,j)\n",
    "    break"
   ]
  },
  {
   "cell_type": "markdown",
   "id": "sealed-pride",
   "metadata": {},
   "source": [
    "Image size => 32, 32  \n",
    "channel 3 => r, g, b  \n",
    "label => 3(cat)"
   ]
  },
  {
   "cell_type": "code",
   "execution_count": 6,
   "id": "executive-sound",
   "metadata": {},
   "outputs": [
    {
     "name": "stderr",
     "output_type": "stream",
     "text": [
      "Clipping input data to the valid range for imshow with RGB data ([0..1] for floats or [0..255] for integers).\n"
     ]
    },
    {
     "name": "stdout",
     "output_type": "stream",
     "text": [
      "image indices: [ 2732 21243 30403 32103 20757 14935 15430 39512]\n",
      "torch.Size([3, 67, 133])\n"
     ]
    },
    {
     "data": {
      "image/png": "[encoded data removed]",
      "text/plain": [
       "<Figure size 720x720 with 1 Axes>"
      ]
     },
     "metadata": {
      "needs_background": "light"
     },
     "output_type": "display_data"
    }
   ],
   "source": [
    "from torchvision import utils\n",
    "import matplotlib.pyplot as plt\n",
    "import numpy as np\n",
    "%matplotlib inline\n",
    "\n",
    "np.random.seed(0)\n",
    "\n",
    "# define helper function\n",
    "def show(img, y=None, color=True):\n",
    "    npimg = img.numpy()\n",
    "    npimg_tr = np.transpose(npimg, (1,2,0))\n",
    "\n",
    "    plt.imshow(npimg_tr)\n",
    "    if y is not None:\n",
    "        plt.title('labels: ' + str(np.array(y)))\n",
    "\n",
    "# pick random samples\n",
    "grid_size = 8\n",
    "rnd_inds = np.random.randint(0, len(trainset), grid_size)\n",
    "print('image indices:', rnd_inds)\n",
    "\n",
    "# create a grid from the sample images\n",
    "x_grid = [trainset[i][0] for i in rnd_inds]\n",
    "y_grid = [trainset[i][1] for i in rnd_inds]\n",
    "\n",
    "x_grid = utils.make_grid(x_grid, nrow=4, padding=1)\n",
    "print(x_grid.shape)\n",
    "\n",
    "plt.figure(figsize=(10.0, 10.0))\n",
    "show(x_grid, y_grid)"
   ]
  },
  {
   "cell_type": "markdown",
   "id": "serial-trout",
   "metadata": {},
   "source": [
    "## Count Label Code"
   ]
  },
  {
   "cell_type": "code",
   "execution_count": 7,
   "id": "valid-stand",
   "metadata": {},
   "outputs": [],
   "source": [
    "y_train = [y for _, y in trainset]\n",
    "y_val = [y for _, y in valset]\n",
    "y_test=[y for _,y in testset]"
   ]
  },
  {
   "cell_type": "code",
   "execution_count": 8,
   "id": "analyzed-october",
   "metadata": {},
   "outputs": [],
   "source": [
    "y_train=np.array(y_train)\n",
    "y_val=np.array(y_val)\n",
    "y_test=np.array(y_test)"
   ]
  },
  {
   "cell_type": "code",
   "execution_count": 9,
   "id": "typical-demonstration",
   "metadata": {},
   "outputs": [],
   "source": [
    "import collections"
   ]
  },
  {
   "cell_type": "code",
   "execution_count": 10,
   "id": "incoming-joseph",
   "metadata": {},
   "outputs": [
    {
     "name": "stdout",
     "output_type": "stream",
     "text": [
      "Counter({2: 4032, 1: 4023, 5: 4016, 0: 4006, 8: 4001, 3: 4000, 7: 3992, 9: 3985, 6: 3974, 4: 3971})\n",
      "Counter({4: 1029, 6: 1026, 9: 1015, 7: 1008, 3: 1000, 8: 999, 0: 994, 5: 984, 1: 977, 2: 968})\n",
      "Counter({3: 1000, 8: 1000, 0: 1000, 6: 1000, 1: 1000, 9: 1000, 5: 1000, 7: 1000, 4: 1000, 2: 1000})\n"
     ]
    }
   ],
   "source": [
    "counter_train = collections.Counter(y_train)\n",
    "counter_val = collections.Counter(y_val)\n",
    "counter_test = collections.Counter(y_test)\n",
    "print(counter_train)\n",
    "print(counter_val)\n",
    "print(counter_test)"
   ]
  },
  {
   "cell_type": "markdown",
   "id": "future-thinking",
   "metadata": {},
   "source": [
    "Why Check the num of label?"
   ]
  },
  {
   "cell_type": "markdown",
   "id": "negative-family",
   "metadata": {},
   "source": [
    "Calculation Channel  \n",
    "(N - F) / Stride + 1"
   ]
  },
  {
   "cell_type": "code",
   "execution_count": 11,
   "id": "recorded-synthetic",
   "metadata": {},
   "outputs": [],
   "source": [
    "class B_CNN(nn.Module):\n",
    "    def __init__(self):\n",
    "        super(B_CNN, self).__init__()\n",
    "        self.conv1=nn.Conv2d(in_channels=3,\n",
    "                             out_channels=32,\n",
    "                             kernel_size=6,\n",
    "                             stride=2,\n",
    "                             padding=2) # 32 16 16\n",
    "                            #(36 - 6) / 2 + 1 => 16\n",
    "        self.conv2=nn.Conv2d(in_channels=32,\n",
    "                            out_channels=64,\n",
    "                            kernel_size=5,\n",
    "                            stride=2,\n",
    "                            padding=2) # 64 8 8\n",
    "                            #((20 - 5) / 2)=> 7로 파단 즉 사이드 하지않음 + 1 => 8\n",
    "        self.conv3=nn.Conv2d(in_channels=64,\n",
    "                            out_channels=128,\n",
    "                            kernel_size=3,\n",
    "                            stride=1,\n",
    "                            padding=1) # 128 8 8\n",
    "                            # kernel 3 에 stride 1 padding 1은 무조건 아웃풋 사이즈 동일\n",
    "        self.maxpool1=nn.MaxPool2d(kernel_size=2,\n",
    "                                  stride=2)\n",
    "        self.act=nn.ReLU()\n",
    "        self.fc = nn.Linear(2048,10)\n",
    "    def forward(self,x):\n",
    "        x=self.conv1(x)\n",
    "        x=self.act(x)\n",
    "        x=self.conv2(x)\n",
    "        x=self.act(x)\n",
    "        x=self.conv3(x)\n",
    "        x=self.act(x)\n",
    "        x=self.maxpool1(x) # 128 4 4\n",
    "        x=x.view(x.size(0),-1) # 1 dim으로 변경시켜주는 함수 2048\n",
    "        x=self.fc(x)\n",
    "        return x"
   ]
  },
  {
   "cell_type": "code",
   "execution_count": 12,
   "id": "specific-baptist",
   "metadata": {},
   "outputs": [],
   "source": [
    "def dimension_check():\n",
    "    net=B_CNN()\n",
    "    x=torch.randn(1,3,32,32)\n",
    "    y=net(x)\n",
    "    print(y.size())"
   ]
  },
  {
   "cell_type": "code",
   "execution_count": 13,
   "id": "cooperative-study",
   "metadata": {},
   "outputs": [
    {
     "name": "stdout",
     "output_type": "stream",
     "text": [
      "torch.Size([1, 10])\n"
     ]
    }
   ],
   "source": [
    "dimension_check()"
   ]
  },
  {
   "cell_type": "code",
   "execution_count": 14,
   "id": "exempt-nebraska",
   "metadata": {},
   "outputs": [],
   "source": [
    "def train(net,partition,optimizer,criterion):\n",
    "    trainloader = torch.utils.data.DataLoader(partition['train'],\n",
    "                                             batch_size=128,\n",
    "                                             shuffle=True)\n",
    "    net.train()\n",
    "    correct = 0\n",
    "    total =0\n",
    "    train_loss = 0.0\n",
    "    for i, data in enumerate(tqdm(trainloader, 0)):\n",
    "        time.sleep(0.0000001)\n",
    "        optimizer.zero_grad()\n",
    "        inputs, labels = data\n",
    "        inputs = inputs.cuda()\n",
    "        labels = labels.cuda()\n",
    "        outputs = net(inputs)\n",
    "        #break\n",
    "        loss = criterion(outputs, labels)\n",
    "        loss.backward()\n",
    "        optimizer.step()\n",
    "        \n",
    "        train_loss += loss.item()\n",
    "        _, predicted = torch.max(outputs.data, 1)\n",
    "        total += labels.size(0)\n",
    "        correct += (predicted == labels).sum().item()\n",
    "        #if i % 200 == 0:\n",
    "        #    print(correct,train_loss)\n",
    "    train_loss = train_loss / len(trainloader)\n",
    "    train_acc = 100 * correct / total\n",
    "    return net, train_loss, train_acc"
   ]
  },
  {
   "cell_type": "code",
   "execution_count": 15,
   "id": "prostate-rachel",
   "metadata": {},
   "outputs": [],
   "source": [
    "def test(net, partition):\n",
    "    testloader = torch.utils.data.DataLoader(partition['test'], \n",
    "                                             batch_size=128, \n",
    "                                             shuffle=False, num_workers=2)\n",
    "    net.eval()\n",
    "    \n",
    "    correct = 0\n",
    "    total = 0\n",
    "    with torch.no_grad():\n",
    "        for data in tqdm(testloader):\n",
    "            time.sleep(0.0000001)\n",
    "            images, labels = data\n",
    "            images = images.cuda()\n",
    "            labels = labels.cuda()\n",
    "\n",
    "            outputs = net(images)\n",
    "            _, predicted = torch.max(outputs.data, 1)\n",
    "            total += labels.size(0)\n",
    "            correct += (predicted == labels).sum().item()\n",
    "\n",
    "        test_acc = 100 * correct / total\n",
    "    return test_acc"
   ]
  },
  {
   "cell_type": "code",
   "execution_count": 16,
   "id": "insured-masters",
   "metadata": {},
   "outputs": [],
   "source": [
    "def validate(net, partition, criterion):\n",
    "    valloader = torch.utils.data.DataLoader(partition['val'], \n",
    "                                            batch_size=128, \n",
    "                                            shuffle=False, num_workers=2)\n",
    "    net.eval()\n",
    "\n",
    "    correct = 0\n",
    "    total = 0\n",
    "    val_loss = 0 \n",
    "    with torch.no_grad():\n",
    "        for data in tqdm(valloader):\n",
    "            time.sleep(0.0000001)\n",
    "            images, labels = data\n",
    "            images = images.cuda()\n",
    "            labels = labels.cuda()\n",
    "            outputs = net(images)\n",
    "\n",
    "            loss = criterion(outputs, labels)\n",
    "            \n",
    "            val_loss += loss.item()\n",
    "            _, predicted = torch.max(outputs.data, 1)\n",
    "            total += labels.size(0)\n",
    "            correct += (predicted == labels).sum().item()\n",
    "\n",
    "        val_loss = val_loss / len(valloader)\n",
    "        val_acc = 100 * correct / total\n",
    "    return val_loss, val_acc"
   ]
  },
  {
   "cell_type": "code",
   "execution_count": 17,
   "id": "essential-marshall",
   "metadata": {},
   "outputs": [],
   "source": [
    "from tqdm import tqdm, tqdm_notebook\n",
    "from tqdm import trange\n",
    "import time"
   ]
  },
  {
   "cell_type": "code",
   "execution_count": 18,
   "id": "signal-costa",
   "metadata": {},
   "outputs": [
    {
     "name": "stderr",
     "output_type": "stream",
     "text": [
      "100%|██████████| 313/313 [00:05<00:00, 52.80it/s]\n",
      "100%|██████████| 79/79 [00:00<00:00, 111.76it/s]\n",
      "  2%|▏         | 5/313 [00:00<00:06, 44.10it/s]"
     ]
    },
    {
     "name": "stdout",
     "output_type": "stream",
     "text": [
      "time : 6.64, train_loss : 1.52, train_acc : 44.95,val_acc : 54.82,val_loss : 1.27\n"
     ]
    },
    {
     "name": "stderr",
     "output_type": "stream",
     "text": [
      "100%|██████████| 313/313 [00:05<00:00, 54.04it/s]\n",
      "100%|██████████| 79/79 [00:00<00:00, 111.46it/s]\n",
      "  2%|▏         | 5/313 [00:00<00:06, 47.23it/s]"
     ]
    },
    {
     "name": "stdout",
     "output_type": "stream",
     "text": [
      "time : 6.50, train_loss : 1.13, train_acc : 60.12,val_acc : 62.41,val_loss : 1.07\n"
     ]
    },
    {
     "name": "stderr",
     "output_type": "stream",
     "text": [
      "100%|██████████| 313/313 [00:05<00:00, 54.14it/s]\n",
      "100%|██████████| 79/79 [00:00<00:00, 113.34it/s]\n",
      "  2%|▏         | 6/313 [00:00<00:05, 52.06it/s]"
     ]
    },
    {
     "name": "stdout",
     "output_type": "stream",
     "text": [
      "time : 6.48, train_loss : 0.96, train_acc : 66.41,val_acc : 65.65,val_loss : 0.99\n"
     ]
    },
    {
     "name": "stderr",
     "output_type": "stream",
     "text": [
      "100%|██████████| 313/313 [00:05<00:00, 54.94it/s]\n",
      "100%|██████████| 79/79 [00:00<00:00, 110.82it/s]\n",
      "  2%|▏         | 5/313 [00:00<00:06, 47.34it/s]"
     ]
    },
    {
     "name": "stdout",
     "output_type": "stream",
     "text": [
      "time : 6.41, train_loss : 0.83, train_acc : 70.73,val_acc : 66.85,val_loss : 0.96\n"
     ]
    },
    {
     "name": "stderr",
     "output_type": "stream",
     "text": [
      "100%|██████████| 313/313 [00:05<00:00, 54.76it/s]\n",
      "100%|██████████| 79/79 [00:00<00:00, 107.62it/s]\n",
      "  0%|          | 0/79 [00:00<?, ?it/s]"
     ]
    },
    {
     "name": "stdout",
     "output_type": "stream",
     "text": [
      "time : 6.45, train_loss : 0.73, train_acc : 74.43,val_acc : 67.89,val_loss : 0.93\n"
     ]
    },
    {
     "name": "stderr",
     "output_type": "stream",
     "text": [
      "100%|██████████| 79/79 [00:00<00:00, 111.63it/s]\n"
     ]
    }
   ],
   "source": [
    "seed = 123\n",
    "np.random.seed(seed)\n",
    "torch.manual_seed(seed)\n",
    "net=B_CNN()\n",
    "net.cuda()\n",
    "criterion=nn.CrossEntropyLoss()\n",
    "optimizer = optim.Adam(net.parameters(), lr=0.0015, weight_decay=0.00001)\n",
    "train_losses=[]\n",
    "val_losses=[]\n",
    "train_accs=[]\n",
    "val_accs=[]\n",
    "for epoch in range(5):\n",
    "    ts=time.time()\n",
    "    net, train_loss,train_acc=train(net, partition, optimizer, criterion)\n",
    "    val_loss, val_acc = validate(net, partition, criterion)\n",
    "    te=time.time()\n",
    "    print('time : {:2.2f}, train_loss : {:2.2f}, train_acc : {:2.2f},val_acc : {:2.2f},val_loss : {:2.2f}'.format(te-ts,train_loss,train_acc,val_acc,val_loss))\n",
    "    train_loss=round(train_loss,2)\n",
    "    val_loss=round(val_loss,2)\n",
    "    train_acc=round(train_acc,2)\n",
    "    val_acc=round(val_acc,2)\n",
    "    train_losses.append(train_loss)\n",
    "    val_losses.append(val_loss)\n",
    "    train_accs.append(train_acc)\n",
    "    val_accs.append(val_acc)\n",
    "test_acc = test(net,partition)\n",
    "test_acc=round(test_acc,2)"
   ]
  },
  {
   "cell_type": "markdown",
   "id": "severe-relief",
   "metadata": {},
   "source": [
    "How to Save?  \n",
    "TXT? CSV?  \n",
    "No! NPY is easy and simple"
   ]
  },
  {
   "cell_type": "code",
   "execution_count": 19,
   "id": "intellectual-medicare",
   "metadata": {},
   "outputs": [
    {
     "data": {
      "text/plain": [
       "[1.52, 1.13, 0.96, 0.83, 0.73]"
      ]
     },
     "execution_count": 19,
     "metadata": {},
     "output_type": "execute_result"
    }
   ],
   "source": [
    "train_losses"
   ]
  },
  {
   "cell_type": "code",
   "execution_count": 20,
   "id": "irish-appendix",
   "metadata": {},
   "outputs": [
    {
     "data": {
      "text/plain": [
       "[1.27, 1.07, 0.99, 0.96, 0.93]"
      ]
     },
     "execution_count": 20,
     "metadata": {},
     "output_type": "execute_result"
    }
   ],
   "source": [
    "val_losses"
   ]
  },
  {
   "cell_type": "code",
   "execution_count": 22,
   "id": "resistant-apparel",
   "metadata": {},
   "outputs": [],
   "source": [
    "np.save(\"basic_trainloss\",train_losses)\n",
    "np.save(\"basic_valloss\",val_losses)\n",
    "np.save(\"basic_trainacc\",train_accs)\n",
    "np.save(\"basic_valaccs\",val_accs)"
   ]
  },
  {
   "cell_type": "markdown",
   "id": "human-fifty",
   "metadata": {},
   "source": [
    "how to load?  \n",
    "so Easy"
   ]
  },
  {
   "cell_type": "code",
   "execution_count": 23,
   "id": "married-cameroon",
   "metadata": {},
   "outputs": [],
   "source": [
    "t_ac=np.load(\"basic_trainacc.npy\")"
   ]
  },
  {
   "cell_type": "code",
   "execution_count": 24,
   "id": "sustained-knowing",
   "metadata": {},
   "outputs": [
    {
     "data": {
      "text/plain": [
       "array([44.95, 60.12, 66.41, 70.73, 74.43])"
      ]
     },
     "execution_count": 24,
     "metadata": {},
     "output_type": "execute_result"
    }
   ],
   "source": [
    "t_ac"
   ]
  },
  {
   "cell_type": "code",
   "execution_count": null,
   "id": "false-going",
   "metadata": {},
   "outputs": [],
   "source": []
  }
 ],
 "metadata": {
  "kernelspec": {
   "display_name": "Python 3",
   "language": "python",
   "name": "python3"
  },
  "language_info": {
   "codemirror_mode": {
    "name": "ipython",
    "version": 3
   },
   "file_extension": ".py",
   "mimetype": "text/x-python",
   "name": "python",
   "nbconvert_exporter": "python",
   "pygments_lexer": "ipython3",
   "version": "3.6.12"
  }
 },
 "nbformat": 4,
 "nbformat_minor": 5
}
